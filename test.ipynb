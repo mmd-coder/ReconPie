{
 "cells": [
  {
   "cell_type": "code",
   "execution_count": 9,
   "id": "d333c294",
   "metadata": {},
   "outputs": [],
   "source": [
    "import whois"
   ]
  },
  {
   "cell_type": "code",
   "execution_count": null,
   "id": "76dd7a19",
   "metadata": {},
   "outputs": [],
   "source": [
    "from functions import *"
   ]
  },
  {
   "cell_type": "code",
   "execution_count": null,
   "id": "ca641fd8",
   "metadata": {},
   "outputs": [],
   "source": [
    "website_link = \"https://mrbug.ir\"\n",
    "site_map = crawl_site(website_link)"
   ]
  },
  {
   "cell_type": "code",
   "execution_count": 8,
   "id": "be43a828",
   "metadata": {},
   "outputs": [
    {
     "name": "stdout",
     "output_type": "stream",
     "text": [
      "Port 21 is open\n",
      "Port 22 is open\n",
      "Port 23 is open\n",
      "Port 25 is open\n",
      "Port 53 is open\n",
      "Port 80 is open\n",
      "Port 110 is open\n",
      "Port 119 is open\n",
      "Port 123 is open\n",
      "Port 143 is open\n",
      "Port 161 is open\n",
      "Port 194 is open\n",
      "Port 443 is open\n",
      "Port 445 is open\n",
      "Port 993 is open\n",
      "Port 995 is open\n"
     ]
    }
   ],
   "source": [
    "import socket\n",
    "\n",
    "ip = \"185.143.234.120\"  # Replace with the IP address you want to scan\n",
    "\n",
    "# List of commonly used ports to scan\n",
    "common_ports = [21, 22, 23, 25, 53, 80, 110, 119, 123, 143, 161, 194, 443, 445, 993, 995]\n",
    "\n",
    "for port in common_ports:  \n",
    "    sock = socket.socket(socket.AF_INET, socket.SOCK_STREAM)\n",
    "    sock.settimeout(5)  # Set timeout to 1 second\n",
    "    result = sock.connect_ex((ip, port))\n",
    "    if result == 0:\n",
    "        print(\"Port {} is open\".format(port))\n",
    "    else:\n",
    "        print(\"Port {} is closed\".format(port))\n",
    "    sock.close()"
   ]
  }
 ],
 "metadata": {
  "kernelspec": {
   "display_name": "Python 3",
   "language": "python",
   "name": "python3"
  },
  "language_info": {
   "codemirror_mode": {
    "name": "ipython",
    "version": 3
   },
   "file_extension": ".py",
   "mimetype": "text/x-python",
   "name": "python",
   "nbconvert_exporter": "python",
   "pygments_lexer": "ipython3",
   "version": "3.12.5"
  }
 },
 "nbformat": 4,
 "nbformat_minor": 5
}
